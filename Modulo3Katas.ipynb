{
 "cells": [
  {
   "cell_type": "markdown",
   "metadata": {},
   "source": [
    "# Ejercicio - Escribir declaraciones `if`, `else` y `elif`\n",
    "--------------------------------------\n",
    "### Bitácora de misión - Advertencia en caso de asteroide\n",
    "\n",
    "Me han pedido que prepare una lógica condicional para mandar una advertencia en caso de que un asteroide se acerque demasiado rápido a la Tierra, daré mi mejor esfuerzo."
   ]
  },
  {
   "cell_type": "code",
   "execution_count": 5,
   "metadata": {},
   "outputs": [
    {
     "name": "stdout",
     "output_type": "stream",
     "text": [
      "Se detectó un asteroide pero se acerca a una velocidad moderada\n"
     ]
    }
   ],
   "source": [
    "vel_asteroide = int(input())\n",
    "if vel_asteroide > 25:\n",
    "    print('¡ADVERTENCIA! Un asteroide se acerca demasiado rápido a la Tierra')\n",
    "else:\n",
    "    print('Todo en orden')"
   ]
  },
  {
   "cell_type": "markdown",
   "metadata": {},
   "source": [
    "Debo crear una alarma de advertencia en caso de que un asteroide entre a la atmósfera, la tripulación cuenta conmigo para esta misión tan importante y no los puedo defraudar."
   ]
  },
  {
   "cell_type": "code",
   "execution_count": 8,
   "metadata": {},
   "outputs": [
    {
     "name": "stdout",
     "output_type": "stream",
     "text": [
      "!Alerta personas del mundo! Se puede ver un asteroide en el cielo\n"
     ]
    }
   ],
   "source": [
    "asteroide_atmosfera = 19\n",
    "if asteroide_atmosfera == 20:\n",
    "    print('¡Alerta personas del mundo! Búsquen una luz en el cielo')\n",
    "elif asteroide_atmosfera > 20:\n",
    "    print('¡Alerta personas del mundo! Se puede ver una luz en el cielo')\n",
    "else:\n",
    "    print('Hay un asteroide en la atmósfera pero no debe ser visible')"
   ]
  },
  {
   "cell_type": "markdown",
   "metadata": {},
   "source": [
    "-----------------------------------\n",
    "# Ejercicio - Uso de operadores `and` y `or`\n",
    "-----------------------------------\n",
    "### Bitácora de misión - Advertencias de asteroides\n",
    "\n",
    "Ahora debo finalizar el sistema de detección de asteroides, hay que mantener la Tierra a salvo de un peligro como este, tengo la confianza de la tripulación para esta tarea y sé que podré lograrlo.\n"
   ]
  },
  {
   "cell_type": "code",
   "execution_count": 1,
   "metadata": {},
   "outputs": [
    {
     "name": "stdout",
     "output_type": "stream",
     "text": [
      "¡Alerta! un gran asteroide viene hacia la Tierra\n"
     ]
    }
   ],
   "source": [
    "vel_asteroide = 35\n",
    "tam_asteroide = 79\n",
    "\n",
    "if ( tam_asteroide > 25 and tam_asteroide < 1000 ):\n",
    "    print('¡Alerta! un gran asteroide viene hacia la Tierra')\n",
    "elif( vel_asteroide >= 20 and vel_asteroide < 25 ):\n",
    "    print('¡Alerta personas del mundo! Se puede ver una luz en el cielo')\n",
    "elif( vel_asteroide >= 25 ):\n",
    "    print('¡ADVERTENCIA! Un asteroide se acerca demasiado rápido a la Tierra')\n",
    "    print('Por cierto, ¿Ya vieron que linda luz en el cielo? <3')\n",
    "else:\n",
    "    print('Todo en orden')"
   ]
  }
 ],
 "metadata": {
  "interpreter": {
   "hash": "44262ee905283ee42f85fea51c9e0ec5fdc28d9f338f83643f6f55bdb4ea8700"
  },
  "kernelspec": {
   "display_name": "Python 3.8.10 64-bit",
   "language": "python",
   "name": "python3"
  },
  "language_info": {
   "codemirror_mode": {
    "name": "ipython",
    "version": 3
   },
   "file_extension": ".py",
   "mimetype": "text/x-python",
   "name": "python",
   "nbconvert_exporter": "python",
   "pygments_lexer": "ipython3",
   "version": "3.8.10"
  },
  "orig_nbformat": 4
 },
 "nbformat": 4,
 "nbformat_minor": 2
}
