{
 "cells": [
  {
   "cell_type": "markdown",
   "metadata": {},
   "source": [
    "# Ejercicio 1 - Trabajar con argumentos en funciones\n",
    "\n",
    "Para comezar este ejercicio se pide una función que realice tres lecturas de combustible y devuelva un informe:"
   ]
  },
  {
   "cell_type": "code",
   "execution_count": 1,
   "metadata": {},
   "outputs": [],
   "source": [
    "def read_fuel(fuel1, fuel2, fuel3):\n",
    "    average_fuel = (fuel1 + fuel2 + fuel3) / 3\n",
    "    return f\"\"\"\n",
    "    The average of fuel is: {average_fuel}\n",
    "    tank1: {fuel1}\n",
    "    tank2: {fuel2}\n",
    "    tank3: {fuel3}\"\"\"\n",
    "    "
   ]
  },
  {
   "cell_type": "markdown",
   "metadata": {},
   "source": [
    "Lo siguiente es llamar la función para hacer el reporte"
   ]
  },
  {
   "cell_type": "code",
   "execution_count": null,
   "metadata": {},
   "outputs": [],
   "source": [
    "print(read_fuel(135, 65, 100))"
   ]
  },
  {
   "cell_type": "markdown",
   "metadata": {},
   "source": [
    "Para mejorar la legibilidad de la función extraigamos los datos del promedio en otra función para que esto se pueda hacer de forma independiente."
   ]
  },
  {
   "cell_type": "code",
   "execution_count": 10,
   "metadata": {},
   "outputs": [],
   "source": [
    "def average(data):\n",
    "    sum_data = 0\n",
    "    for d in data:\n",
    "        sum_data = sum_data + d\n",
    "    return sum_data / len(data)"
   ]
  },
  {
   "cell_type": "markdown",
   "metadata": {},
   "source": [
    "Finalmente se actualiza nuestra primera función para que utilice la que calcula el promedio"
   ]
  },
  {
   "cell_type": "code",
   "execution_count": 11,
   "metadata": {},
   "outputs": [
    {
     "name": "stdout",
     "output_type": "stream",
     "text": [
      "The average of fuel is: 98.33333333333333\n",
      "    tank1: 145\n",
      "    tank2: 100\n",
      "    tank3: 50\n"
     ]
    }
   ],
   "source": [
    "def read_fuel(fuel1, fuel2, fuel3):\n",
    "    average_fuel = average([fuel1, fuel2, fuel3])\n",
    "    return f\"\"\"\n",
    "    The average of fuel is: {average_fuel}\n",
    "    tank1: {fuel1}\n",
    "    tank2: {fuel2}\n",
    "    tank3: {fuel3}\"\"\"\n",
    "    \n",
    "print(read_fuel(145, 100, 50))"
   ]
  },
  {
   "cell_type": "markdown",
   "metadata": {},
   "source": [
    "# Ejercicio 2 - Trabajo con argumentos de palabra clave\n",
    "En este ejercicio, construirás un informe de cohete que requiere varias piezas de información, como el tiempo hasta el destino, el combustible a la izquierda y el nombre del destino. Comienza por crear una función que creará un informe preciso de la misión:"
   ]
  },
  {
   "cell_type": "code",
   "execution_count": 12,
   "metadata": {},
   "outputs": [],
   "source": [
    "def rocket_report(hour, flight_time, destination, external_tank, internal_tank):\n",
    "    return f\"\"\"\n",
    "    Mission to: {destination}\n",
    "    Time travel: {hour + flight_time}\n",
    "    Total fuel: {external_tank + internal_tank}\"\"\""
   ]
  },
  {
   "cell_type": "markdown",
   "metadata": {},
   "source": [
    "La función ahora mismo es poco flexible, para que esta reciba datos como más minutos y tanques adicionales hay que adaptarla."
   ]
  },
  {
   "cell_type": "code",
   "execution_count": 13,
   "metadata": {},
   "outputs": [],
   "source": [
    "def rocket_report(destination, *minuts, **fuel_reservoirs):\n",
    "    return f\"\"\"\n",
    "    Mission to: { destination }\n",
    "    Time travel: { sum(minuts) }\n",
    "    Total fuel: { sum(fuel_reservoirs.values() )}\"\"\""
   ]
  },
  {
   "cell_type": "markdown",
   "metadata": {},
   "source": [
    "Debido a que el combustible que queda en los tanques es específico de cada tanque, actualiza la función para usar el nombre de cada tanque en el informe:"
   ]
  },
  {
   "cell_type": "code",
   "execution_count": 17,
   "metadata": {},
   "outputs": [
    {
     "name": "stdout",
     "output_type": "stream",
     "text": [
      "\n",
      "    Mission to: Mars\n",
      "    Time travel: 181 minutes\n",
      "    Total fuel: 464000 gallons\n",
      "    main has 325000 gallons left\n",
      "external has 139000 gallons left\n",
      "\n"
     ]
    }
   ],
   "source": [
    "def rocket_report(destination, *minuts, **fuel_reservoirs):\n",
    "    report = f\"\"\"\n",
    "    Mission to: { destination }\n",
    "    Time travel: { sum(minuts) } minutes\n",
    "    Total fuel: { sum(fuel_reservoirs.values() )} gallons\n",
    "    \"\"\"\n",
    "    for fuel_tank, fuel in fuel_reservoirs.items():\n",
    "        report += f\"{fuel_tank} has {fuel} gallons left\\n\"\n",
    "    return report\n",
    "\n",
    "print( rocket_report( \"Mars\", 50, 96, 35, main=325000, external=139000 ) )"
   ]
  }
 ],
 "metadata": {
  "interpreter": {
   "hash": "44262ee905283ee42f85fea51c9e0ec5fdc28d9f338f83643f6f55bdb4ea8700"
  },
  "kernelspec": {
   "display_name": "Python 3.8.10 64-bit",
   "language": "python",
   "name": "python3"
  },
  "language_info": {
   "codemirror_mode": {
    "name": "ipython",
    "version": 3
   },
   "file_extension": ".py",
   "mimetype": "text/x-python",
   "name": "python",
   "nbconvert_exporter": "python",
   "pygments_lexer": "ipython3",
   "version": "3.8.10"
  },
  "orig_nbformat": 4
 },
 "nbformat": 4,
 "nbformat_minor": 2
}
