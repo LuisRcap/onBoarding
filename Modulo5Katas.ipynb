{
 "cells": [
  {
   "cell_type": "markdown",
   "metadata": {},
   "source": [
    "# Ejercicio 1 - Utilizar operadores aritméticos\n",
    "\n",
    "Vamos a crear un programa que pueda calcular la dinstancia entre 2 planetas, primero hay que crear las variables con la distancia de la Tierra y la de Júpiter después se realizan las operaciones y finalmente se cambia el resultado de kilómetros a millas."
   ]
  },
  {
   "cell_type": "code",
   "execution_count": 3,
   "metadata": {},
   "outputs": [
    {
     "name": "stdout",
     "output_type": "stream",
     "text": [
      "Distancia entre planetas 628949330 km\n",
      "Distancia entre planetas:  390577534 mi\n"
     ]
    }
   ],
   "source": [
    "tierra = 149597870\n",
    "jupiter = 778547200\n",
    "\n",
    "distancia = abs(tierra - jupiter)\n",
    "print('Distancia entre planetas', distancia, 'km')\n",
    "print('Distancia entre planetas: ', round(distancia * 0.621), \"mi\")"
   ]
  },
  {
   "cell_type": "markdown",
   "metadata": {},
   "source": [
    "# Ejercicio 2 - Convierte cadenas en números y usa valores absolutos\n",
    "\n",
    "Para este ejercicio se leeran los valores utilizando input(), estos solicitan la distancia al sol para dos planetas, pero debido a que un input regresa valores de cadena, nececitan transformarse a enteros utilizando int()"
   ]
  },
  {
   "cell_type": "code",
   "execution_count": 4,
   "metadata": {},
   "outputs": [],
   "source": [
    "planeta1 = int(input('Ingrese la distancia al sol del primer planeta'))\n",
    "planeta2 = int(input('Ingrese la distancia al sol del segundo planeta'))"
   ]
  },
  {
   "cell_type": "markdown",
   "metadata": {},
   "source": [
    "Ahora se hace la operación para calcular la distancia entre los dos planetas utilizando valor absoluto `abs` debido a que el segundo planeta puede tener una distancia menor que el primero."
   ]
  },
  {
   "cell_type": "code",
   "execution_count": 5,
   "metadata": {},
   "outputs": [
    {
     "name": "stdout",
     "output_type": "stream",
     "text": [
      "Distancia entre los dos planetas:  720700000 km\n",
      "Distancia entre los dos planetas:  447554700.0 mi\n"
     ]
    }
   ],
   "source": [
    "distancia = abs(planeta2 - planeta1)\n",
    "print('Distancia entre los dos planetas: ', distancia, 'km')\n",
    "print('Distancia entre los dos planetas: ', distancia * 0.621, 'mi')"
   ]
  }
 ],
 "metadata": {
  "interpreter": {
   "hash": "44262ee905283ee42f85fea51c9e0ec5fdc28d9f338f83643f6f55bdb4ea8700"
  },
  "kernelspec": {
   "display_name": "Python 3.8.10 64-bit",
   "language": "python",
   "name": "python3"
  },
  "language_info": {
   "codemirror_mode": {
    "name": "ipython",
    "version": 3
   },
   "file_extension": ".py",
   "mimetype": "text/x-python",
   "name": "python",
   "nbconvert_exporter": "python",
   "pygments_lexer": "ipython3",
   "version": "3.8.10"
  },
  "orig_nbformat": 4
 },
 "nbformat": 4,
 "nbformat_minor": 2
}
